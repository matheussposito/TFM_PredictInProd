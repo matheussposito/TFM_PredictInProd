{
 "cells": [
  {
   "cell_type": "code",
   "execution_count": 1,
   "id": "939af743",
   "metadata": {},
   "outputs": [],
   "source": [
    "import pandas as pd\n",
    "from datetime import datetime\n",
    "import pytz"
   ]
  },
  {
   "cell_type": "code",
   "execution_count": 2,
   "id": "06526ff3",
   "metadata": {},
   "outputs": [],
   "source": [
    "def predict(pickup_datetime,\n",
    "            pickup_longitude,\n",
    "            pickup_latitude,\n",
    "            dropoff_longitude,\n",
    "            dropoff_latitude,\n",
    "            passenger_count):\n",
    "\n",
    "    pickup_datetime = datetime.strptime(pickup_datetime, \"%Y-%m-%d %H:%M:%S\")\n",
    "    eastern = pytz.timezone(\"US/Eastern\")\n",
    "    localized_pickup_datetime = eastern.localize(pickup_datetime, is_dst=None)\n",
    "    utc_pickup_datetime = localized_pickup_datetime.astimezone(pytz.utc)\n",
    "    formatted_pickup_datetime = utc_pickup_datetime.strftime(\"%Y-%m-%d %H:%M:%S UTC\")\n",
    "\n",
    "    tmp = {\n",
    "        'key': formatted_pickup_datetime,\n",
    "        'pickup_datetime': formatted_pickup_datetime,\n",
    "        'pickup_longitude': float(pickup_longitude),\n",
    "        'pickup_latitude': float(pickup_latitude),\n",
    "        'dropoff_longitude': float(dropoff_longitude),\n",
    "        'dropoff_latitude': float(dropoff_latitude),\n",
    "        'passenger_count': int(passenger_count)\n",
    "    }\n",
    "\n",
    "    X_pred = pd.DataFrame.from_dict(tmp)\n",
    "\n",
    "    return X_pred"
   ]
  },
  {
   "cell_type": "code",
   "execution_count": 3,
   "id": "66118d7c",
   "metadata": {},
   "outputs": [],
   "source": [
    "X = predict(pickup_datetime='2013-07-06 17:18:00',pickup_longitude='-73.950655', pickup_latitude='40.783282', dropoff_longitude='-73.984365',dropoff_latitude='40.769802',passenger_count=1)"
   ]
  },
  {
   "cell_type": "code",
   "execution_count": 6,
   "id": "234963e8",
   "metadata": {},
   "outputs": [
    {
     "data": {
      "text/plain": [
       "method"
      ]
     },
     "execution_count": 6,
     "metadata": {},
     "output_type": "execute_result"
    }
   ],
   "source": [
    "type(X)"
   ]
  }
 ],
 "metadata": {
  "kernelspec": {
   "display_name": "Python 3 (ipykernel)",
   "language": "python",
   "name": "python3"
  },
  "language_info": {
   "codemirror_mode": {
    "name": "ipython",
    "version": 3
   },
   "file_extension": ".py",
   "mimetype": "text/x-python",
   "name": "python",
   "nbconvert_exporter": "python",
   "pygments_lexer": "ipython3",
   "version": "3.8.12"
  },
  "toc": {
   "base_numbering": 1,
   "nav_menu": {},
   "number_sections": true,
   "sideBar": true,
   "skip_h1_title": false,
   "title_cell": "Table of Contents",
   "title_sidebar": "Contents",
   "toc_cell": false,
   "toc_position": {},
   "toc_section_display": true,
   "toc_window_display": false
  }
 },
 "nbformat": 4,
 "nbformat_minor": 5
}
